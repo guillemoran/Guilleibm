{
 "cells": [
  {
   "cell_type": "markdown",
   "id": "45ae329a-3b04-4688-b0c7-d34d8bb1dd92",
   "metadata": {
    "tags": []
   },
   "source": [
    "# Data Science Tools and Ecosystem"
   ]
  },
  {
   "cell_type": "markdown",
   "id": "9f4d8b90-857a-4871-98ba-0d87b5817f31",
   "metadata": {},
   "source": [
    "In this notebook, Data Science Tools and Ecosystem are summarized."
   ]
  },
  {
   "cell_type": "markdown",
   "id": "3c4d5ac3-9b18-48b8-9eef-30d66f12266b",
   "metadata": {
    "tags": []
   },
   "source": [
    "# Some of the popular languages that Data Scientists use are:\n",
    "1. Python\n",
    "2. R\n",
    "3. SQL"
   ]
  },
  {
   "cell_type": "markdown",
   "id": "b5171bd1-76e5-48f8-8a62-293de3e059ae",
   "metadata": {
    "tags": []
   },
   "source": [
    "## Some of the commonly used libraries used by Data Scientists include:\n",
    "1. Pandas\n",
    "2. Matplotlib\n",
    "3. Numpy"
   ]
  },
  {
   "cell_type": "markdown",
   "id": "9faeb0c8-4efe-4c17-82de-94586a654533",
   "metadata": {},
   "source": [
    "| Data Science Tools |\n",
    "|----------------------------------|\n",
    "| Numpy                            |\n",
    "| Matplotlib                       |\n",
    "| Pandas                           |"
   ]
  },
  {
   "cell_type": "markdown",
   "id": "5c36be1c-82dc-4f6d-8e7c-147ecbb3b003",
   "metadata": {},
   "source": [
    "### Below are a few examples of evaluating arithmetic expressions in Python"
   ]
  },
  {
   "cell_type": "code",
   "execution_count": 2,
   "id": "49bfd975-8b63-44b2-8d6c-95a7172a993b",
   "metadata": {
    "tags": []
   },
   "outputs": [
    {
     "name": "stdout",
     "output_type": "stream",
     "text": [
      "17\n"
     ]
    }
   ],
   "source": [
    "# This a simple arithmetic expression to mutiply then add integers\n",
    "resultado = (3*4)+5\n",
    "print(resultado)"
   ]
  },
  {
   "cell_type": "code",
   "execution_count": 3,
   "id": "3f99b56d-5fee-4bd1-960d-1c5057a81d53",
   "metadata": {
    "tags": []
   },
   "outputs": [
    {
     "name": "stdout",
     "output_type": "stream",
     "text": [
      "3.3333333333333335\n"
     ]
    }
   ],
   "source": [
    "# This will convert 200 minutes to hours by diving by 60\n",
    "min = 200\n",
    "hour = min / 60\n",
    "print(hour)"
   ]
  },
  {
   "cell_type": "markdown",
   "id": "d63cb37d-df82-4227-bf1b-43e7dd65f6bb",
   "metadata": {},
   "source": [
    "**Objectives:**\n",
    "- List popular languages for Data Science.\n",
    "- Enumerate common libraries used by Data Scientists.\n",
    "- Introduce examples of arithmetic expressions in Python.\n",
    "- Convert minutes to hours and perform simple arithmetic calculations.\n"
   ]
  },
  {
   "cell_type": "markdown",
   "id": "7abc033c-7fd5-4aad-aeb4-bd28e6e8d817",
   "metadata": {},
   "source": [
    "## Author\n",
    "\n",
    " Guillermo Moran"
   ]
  },
  {
   "cell_type": "code",
   "execution_count": null,
   "id": "42da90c3-9081-474a-a9b7-08ff912125e6",
   "metadata": {},
   "outputs": [],
   "source": []
  }
 ],
 "metadata": {
  "kernelspec": {
   "display_name": "Python 3 (ipykernel)",
   "language": "python",
   "name": "python3"
  },
  "language_info": {
   "codemirror_mode": {
    "name": "ipython",
    "version": 3
   },
   "file_extension": ".py",
   "mimetype": "text/x-python",
   "name": "python",
   "nbconvert_exporter": "python",
   "pygments_lexer": "ipython3",
   "version": "3.11.5"
  },
  "toc-autonumbering": true,
  "toc-showtags": false
 },
 "nbformat": 4,
 "nbformat_minor": 5
}
